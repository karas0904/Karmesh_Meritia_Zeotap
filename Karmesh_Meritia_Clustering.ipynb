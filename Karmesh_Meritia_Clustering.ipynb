{
 "cells": [
  {
   "cell_type": "code",
   "execution_count": 153,
   "metadata": {},
   "outputs": [
    {
     "data": {
      "text/html": [
       "<div>\n",
       "<style scoped>\n",
       "    .dataframe tbody tr th:only-of-type {\n",
       "        vertical-align: middle;\n",
       "    }\n",
       "\n",
       "    .dataframe tbody tr th {\n",
       "        vertical-align: top;\n",
       "    }\n",
       "\n",
       "    .dataframe thead th {\n",
       "        text-align: right;\n",
       "    }\n",
       "</style>\n",
       "<table border=\"1\" class=\"dataframe\">\n",
       "  <thead>\n",
       "    <tr style=\"text-align: right;\">\n",
       "      <th></th>\n",
       "      <th>TransactionID</th>\n",
       "      <th>CustomerID</th>\n",
       "      <th>ProductID</th>\n",
       "      <th>TransactionDate</th>\n",
       "      <th>Quantity</th>\n",
       "      <th>TotalValue</th>\n",
       "      <th>Price</th>\n",
       "      <th>CustomerName</th>\n",
       "      <th>Region</th>\n",
       "      <th>SignupDate</th>\n",
       "    </tr>\n",
       "  </thead>\n",
       "  <tbody>\n",
       "    <tr>\n",
       "      <th>0</th>\n",
       "      <td>T00001</td>\n",
       "      <td>C0199</td>\n",
       "      <td>P067</td>\n",
       "      <td>2024-08-25 12:38:23</td>\n",
       "      <td>1</td>\n",
       "      <td>300.68</td>\n",
       "      <td>300.68</td>\n",
       "      <td>Andrea Jenkins</td>\n",
       "      <td>Europe</td>\n",
       "      <td>2022-12-03</td>\n",
       "    </tr>\n",
       "    <tr>\n",
       "      <th>1</th>\n",
       "      <td>T00112</td>\n",
       "      <td>C0146</td>\n",
       "      <td>P067</td>\n",
       "      <td>2024-05-27 22:23:54</td>\n",
       "      <td>1</td>\n",
       "      <td>300.68</td>\n",
       "      <td>300.68</td>\n",
       "      <td>Brittany Harvey</td>\n",
       "      <td>Asia</td>\n",
       "      <td>2024-09-04</td>\n",
       "    </tr>\n",
       "    <tr>\n",
       "      <th>2</th>\n",
       "      <td>T00166</td>\n",
       "      <td>C0127</td>\n",
       "      <td>P067</td>\n",
       "      <td>2024-04-25 07:38:55</td>\n",
       "      <td>1</td>\n",
       "      <td>300.68</td>\n",
       "      <td>300.68</td>\n",
       "      <td>Kathryn Stevens</td>\n",
       "      <td>Europe</td>\n",
       "      <td>2024-04-04</td>\n",
       "    </tr>\n",
       "    <tr>\n",
       "      <th>3</th>\n",
       "      <td>T00272</td>\n",
       "      <td>C0087</td>\n",
       "      <td>P067</td>\n",
       "      <td>2024-03-26 22:55:37</td>\n",
       "      <td>2</td>\n",
       "      <td>601.36</td>\n",
       "      <td>300.68</td>\n",
       "      <td>Travis Campbell</td>\n",
       "      <td>South America</td>\n",
       "      <td>2024-04-11</td>\n",
       "    </tr>\n",
       "    <tr>\n",
       "      <th>4</th>\n",
       "      <td>T00363</td>\n",
       "      <td>C0070</td>\n",
       "      <td>P067</td>\n",
       "      <td>2024-03-21 15:10:10</td>\n",
       "      <td>3</td>\n",
       "      <td>902.04</td>\n",
       "      <td>300.68</td>\n",
       "      <td>Timothy Perez</td>\n",
       "      <td>Europe</td>\n",
       "      <td>2022-03-15</td>\n",
       "    </tr>\n",
       "    <tr>\n",
       "      <th>...</th>\n",
       "      <td>...</td>\n",
       "      <td>...</td>\n",
       "      <td>...</td>\n",
       "      <td>...</td>\n",
       "      <td>...</td>\n",
       "      <td>...</td>\n",
       "      <td>...</td>\n",
       "      <td>...</td>\n",
       "      <td>...</td>\n",
       "      <td>...</td>\n",
       "    </tr>\n",
       "    <tr>\n",
       "      <th>995</th>\n",
       "      <td>T00496</td>\n",
       "      <td>C0118</td>\n",
       "      <td>P037</td>\n",
       "      <td>2024-10-24 08:30:27</td>\n",
       "      <td>1</td>\n",
       "      <td>459.86</td>\n",
       "      <td>459.86</td>\n",
       "      <td>Jacob Holt</td>\n",
       "      <td>South America</td>\n",
       "      <td>2022-01-22</td>\n",
       "    </tr>\n",
       "    <tr>\n",
       "      <th>996</th>\n",
       "      <td>T00759</td>\n",
       "      <td>C0059</td>\n",
       "      <td>P037</td>\n",
       "      <td>2024-06-04 02:15:24</td>\n",
       "      <td>3</td>\n",
       "      <td>1379.58</td>\n",
       "      <td>459.86</td>\n",
       "      <td>Mrs. Kimberly Wright</td>\n",
       "      <td>North America</td>\n",
       "      <td>2024-04-07</td>\n",
       "    </tr>\n",
       "    <tr>\n",
       "      <th>997</th>\n",
       "      <td>T00922</td>\n",
       "      <td>C0018</td>\n",
       "      <td>P037</td>\n",
       "      <td>2024-04-05 13:05:32</td>\n",
       "      <td>4</td>\n",
       "      <td>1839.44</td>\n",
       "      <td>459.86</td>\n",
       "      <td>Tyler Haynes</td>\n",
       "      <td>North America</td>\n",
       "      <td>2024-09-21</td>\n",
       "    </tr>\n",
       "    <tr>\n",
       "      <th>998</th>\n",
       "      <td>T00959</td>\n",
       "      <td>C0115</td>\n",
       "      <td>P037</td>\n",
       "      <td>2024-09-29 10:16:02</td>\n",
       "      <td>2</td>\n",
       "      <td>919.72</td>\n",
       "      <td>459.86</td>\n",
       "      <td>Joshua Hamilton</td>\n",
       "      <td>Asia</td>\n",
       "      <td>2024-11-11</td>\n",
       "    </tr>\n",
       "    <tr>\n",
       "      <th>999</th>\n",
       "      <td>T00992</td>\n",
       "      <td>C0024</td>\n",
       "      <td>P037</td>\n",
       "      <td>2024-04-21 10:52:24</td>\n",
       "      <td>1</td>\n",
       "      <td>459.86</td>\n",
       "      <td>459.86</td>\n",
       "      <td>Michele Cooley</td>\n",
       "      <td>North America</td>\n",
       "      <td>2024-02-05</td>\n",
       "    </tr>\n",
       "  </tbody>\n",
       "</table>\n",
       "<p>1000 rows × 10 columns</p>\n",
       "</div>"
      ],
      "text/plain": [
       "    TransactionID CustomerID ProductID      TransactionDate  Quantity  \\\n",
       "0          T00001      C0199      P067  2024-08-25 12:38:23         1   \n",
       "1          T00112      C0146      P067  2024-05-27 22:23:54         1   \n",
       "2          T00166      C0127      P067  2024-04-25 07:38:55         1   \n",
       "3          T00272      C0087      P067  2024-03-26 22:55:37         2   \n",
       "4          T00363      C0070      P067  2024-03-21 15:10:10         3   \n",
       "..            ...        ...       ...                  ...       ...   \n",
       "995        T00496      C0118      P037  2024-10-24 08:30:27         1   \n",
       "996        T00759      C0059      P037  2024-06-04 02:15:24         3   \n",
       "997        T00922      C0018      P037  2024-04-05 13:05:32         4   \n",
       "998        T00959      C0115      P037  2024-09-29 10:16:02         2   \n",
       "999        T00992      C0024      P037  2024-04-21 10:52:24         1   \n",
       "\n",
       "     TotalValue   Price          CustomerName         Region  SignupDate  \n",
       "0        300.68  300.68        Andrea Jenkins         Europe  2022-12-03  \n",
       "1        300.68  300.68       Brittany Harvey           Asia  2024-09-04  \n",
       "2        300.68  300.68       Kathryn Stevens         Europe  2024-04-04  \n",
       "3        601.36  300.68       Travis Campbell  South America  2024-04-11  \n",
       "4        902.04  300.68         Timothy Perez         Europe  2022-03-15  \n",
       "..          ...     ...                   ...            ...         ...  \n",
       "995      459.86  459.86            Jacob Holt  South America  2022-01-22  \n",
       "996     1379.58  459.86  Mrs. Kimberly Wright  North America  2024-04-07  \n",
       "997     1839.44  459.86          Tyler Haynes  North America  2024-09-21  \n",
       "998      919.72  459.86       Joshua Hamilton           Asia  2024-11-11  \n",
       "999      459.86  459.86        Michele Cooley  North America  2024-02-05  \n",
       "\n",
       "[1000 rows x 10 columns]"
      ]
     },
     "execution_count": 153,
     "metadata": {},
     "output_type": "execute_result"
    }
   ],
   "source": [
    "import pandas as pd\n",
    "\n",
    "# Load the datasets\n",
    "customers = pd.read_csv('Customers.csv')\n",
    "transactions = pd.read_csv('Transactions.csv')\n",
    "\n",
    "# Merge the two datasets on CustomerID\n",
    "merged_data = pd.merge(transactions, customers, on='CustomerID', how='left')\n",
    "\n",
    "# Check the first few rows of the merged data\n",
    "merged_data\n"
   ]
  },
  {
   "cell_type": "code",
   "execution_count": 154,
   "metadata": {},
   "outputs": [
    {
     "data": {
      "text/plain": [
       "TransactionID      0\n",
       "CustomerID         0\n",
       "ProductID          0\n",
       "TransactionDate    0\n",
       "Quantity           0\n",
       "TotalValue         0\n",
       "Price              0\n",
       "CustomerName       0\n",
       "Region             0\n",
       "SignupDate         0\n",
       "dtype: int64"
      ]
     },
     "execution_count": 154,
     "metadata": {},
     "output_type": "execute_result"
    }
   ],
   "source": [
    "# Check for missing values in the merged dataset\n",
    "merged_data.isnull().sum()\n"
   ]
  },
  {
   "cell_type": "code",
   "execution_count": 155,
   "metadata": {},
   "outputs": [],
   "source": [
    "merged_data['TransactionDate'] = pd.to_datetime(merged_data['TransactionDate'])\n",
    "merged_data['SignupDate'] = pd.to_datetime(merged_data['SignupDate'])\n"
   ]
  },
  {
   "cell_type": "code",
   "execution_count": 156,
   "metadata": {},
   "outputs": [],
   "source": [
    "# 1. Recency: Days since last transaction (today's date - latest transaction date)\n",
    "latest_transaction_date = merged_data.groupby('CustomerID')['TransactionDate'].max()\n",
    "latest_transaction_date = pd.DataFrame(latest_transaction_date)\n",
    "latest_transaction_date['Recency'] = (pd.to_datetime('today') - latest_transaction_date['TransactionDate']).dt.days\n"
   ]
  },
  {
   "cell_type": "code",
   "execution_count": 157,
   "metadata": {},
   "outputs": [],
   "source": [
    "# 2. Transaction Frequency: Count the number of transactions for each customer\n",
    "transaction_frequency = merged_data.groupby('CustomerID')['TransactionID'].count().reset_index(name='TransactionFrequency')\n"
   ]
  },
  {
   "cell_type": "code",
   "execution_count": 158,
   "metadata": {},
   "outputs": [],
   "source": [
    "# 3. Total Spend: Sum of TotalValue for each customer\n",
    "total_spend = merged_data.groupby('CustomerID')['TotalValue'].sum().reset_index(name='TotalSpend')\n"
   ]
  },
  {
   "cell_type": "code",
   "execution_count": 159,
   "metadata": {},
   "outputs": [],
   "source": [
    "# Merge the features into a single DataFrame\n",
    "customer_profile = pd.merge(latest_transaction_date, transaction_frequency, on='CustomerID')\n",
    "customer_profile = pd.merge(customer_profile, total_spend, on='CustomerID')\n"
   ]
  },
  {
   "cell_type": "code",
   "execution_count": 160,
   "metadata": {},
   "outputs": [
    {
     "data": {
      "text/html": [
       "<div>\n",
       "<style scoped>\n",
       "    .dataframe tbody tr th:only-of-type {\n",
       "        vertical-align: middle;\n",
       "    }\n",
       "\n",
       "    .dataframe tbody tr th {\n",
       "        vertical-align: top;\n",
       "    }\n",
       "\n",
       "    .dataframe thead th {\n",
       "        text-align: right;\n",
       "    }\n",
       "</style>\n",
       "<table border=\"1\" class=\"dataframe\">\n",
       "  <thead>\n",
       "    <tr style=\"text-align: right;\">\n",
       "      <th></th>\n",
       "      <th>CustomerID</th>\n",
       "      <th>TransactionDate</th>\n",
       "      <th>Recency</th>\n",
       "      <th>TransactionFrequency</th>\n",
       "      <th>TotalSpend</th>\n",
       "    </tr>\n",
       "  </thead>\n",
       "  <tbody>\n",
       "    <tr>\n",
       "      <th>0</th>\n",
       "      <td>C0001</td>\n",
       "      <td>2024-11-02 17:04:16</td>\n",
       "      <td>85</td>\n",
       "      <td>5</td>\n",
       "      <td>3354.52</td>\n",
       "    </tr>\n",
       "    <tr>\n",
       "      <th>1</th>\n",
       "      <td>C0002</td>\n",
       "      <td>2024-12-03 01:41:41</td>\n",
       "      <td>54</td>\n",
       "      <td>4</td>\n",
       "      <td>1862.74</td>\n",
       "    </tr>\n",
       "    <tr>\n",
       "      <th>2</th>\n",
       "      <td>C0003</td>\n",
       "      <td>2024-08-24 18:54:04</td>\n",
       "      <td>155</td>\n",
       "      <td>4</td>\n",
       "      <td>2725.38</td>\n",
       "    </tr>\n",
       "    <tr>\n",
       "      <th>3</th>\n",
       "      <td>C0004</td>\n",
       "      <td>2024-12-23 14:13:52</td>\n",
       "      <td>34</td>\n",
       "      <td>8</td>\n",
       "      <td>5354.88</td>\n",
       "    </tr>\n",
       "    <tr>\n",
       "      <th>4</th>\n",
       "      <td>C0005</td>\n",
       "      <td>2024-11-04 00:30:22</td>\n",
       "      <td>84</td>\n",
       "      <td>3</td>\n",
       "      <td>2034.24</td>\n",
       "    </tr>\n",
       "  </tbody>\n",
       "</table>\n",
       "</div>"
      ],
      "text/plain": [
       "  CustomerID     TransactionDate  Recency  TransactionFrequency  TotalSpend\n",
       "0      C0001 2024-11-02 17:04:16       85                     5     3354.52\n",
       "1      C0002 2024-12-03 01:41:41       54                     4     1862.74\n",
       "2      C0003 2024-08-24 18:54:04      155                     4     2725.38\n",
       "3      C0004 2024-12-23 14:13:52       34                     8     5354.88\n",
       "4      C0005 2024-11-04 00:30:22       84                     3     2034.24"
      ]
     },
     "execution_count": 160,
     "metadata": {},
     "output_type": "execute_result"
    }
   ],
   "source": [
    "customer_profile.head()"
   ]
  },
  {
   "cell_type": "code",
   "execution_count": 161,
   "metadata": {},
   "outputs": [
    {
     "name": "stdout",
     "output_type": "stream",
     "text": [
      "  CustomerID     TransactionDate  Recency  TransactionFrequency  TotalSpend  \\\n",
      "0      C0001 2024-11-02 17:04:16       85                     5     3354.52   \n",
      "1      C0002 2024-12-03 01:41:41       54                     4     1862.74   \n",
      "2      C0003 2024-08-24 18:54:04      155                     4     2725.38   \n",
      "3      C0004 2024-12-23 14:13:52       34                     8     5354.88   \n",
      "4      C0005 2024-11-04 00:30:22       84                     3     2034.24   \n",
      "\n",
      "          Region  \n",
      "0  South America  \n",
      "1           Asia  \n",
      "2  South America  \n",
      "3  South America  \n",
      "4           Asia  \n"
     ]
    }
   ],
   "source": [
    "customer_profile = customer_profile.merge(customers[['CustomerID', 'Region']], on='CustomerID', how='left')\n",
    "print(customer_profile.head())\n"
   ]
  },
  {
   "cell_type": "code",
   "execution_count": 162,
   "metadata": {},
   "outputs": [
    {
     "name": "stdout",
     "output_type": "stream",
     "text": [
      "Index(['CustomerID', 'TransactionDate', 'Recency', 'TransactionFrequency',\n",
      "       'TotalSpend', 'Region'],\n",
      "      dtype='object')\n"
     ]
    }
   ],
   "source": [
    "# Drop the duplicate columns\n",
    "customer_profile = customer_profile.loc[:, ~customer_profile.columns.duplicated()]\n",
    "\n",
    "# Check the updated columns\n",
    "print(customer_profile.columns)\n"
   ]
  },
  {
   "cell_type": "markdown",
   "metadata": {},
   "source": [
    "#dropping duplicate columns"
   ]
  },
  {
   "cell_type": "code",
   "execution_count": 184,
   "metadata": {},
   "outputs": [
    {
     "name": "stdout",
     "output_type": "stream",
     "text": [
      "  CustomerID     TransactionDate  Recency  TransactionFrequency  TotalSpend  \\\n",
      "0      C0001 2024-11-02 17:04:16       85                     5     3354.52   \n",
      "1      C0002 2024-12-03 01:41:41       54                     4     1862.74   \n",
      "2      C0003 2024-08-24 18:54:04      155                     4     2725.38   \n",
      "3      C0004 2024-12-23 14:13:52       34                     8     5354.88   \n",
      "4      C0005 2024-11-04 00:30:22       84                     3     2034.24   \n",
      "\n",
      "          Region  \n",
      "0  South America  \n",
      "1           Asia  \n",
      "2  South America  \n",
      "3  South America  \n",
      "4           Asia  \n"
     ]
    }
   ],
   "source": [
    "# Drop the duplicate columns\n",
    "customer_profile = customer_profile.loc[:, ~customer_profile.columns.duplicated()]\n",
    "\n",
    "# Print the updated dataset\n",
    "print(customer_profile.head())\n"
   ]
  },
  {
   "cell_type": "code",
   "execution_count": 185,
   "metadata": {},
   "outputs": [
    {
     "name": "stdout",
     "output_type": "stream",
     "text": [
      "  CustomerID     TransactionDate  Recency  TransactionFrequency  TotalSpend  \\\n",
      "0      C0001 2024-11-02 17:04:16       85                     5     3354.52   \n",
      "1      C0002 2024-12-03 01:41:41       54                     4     1862.74   \n",
      "2      C0003 2024-08-24 18:54:04      155                     4     2725.38   \n",
      "3      C0004 2024-12-23 14:13:52       34                     8     5354.88   \n",
      "4      C0005 2024-11-04 00:30:22       84                     3     2034.24   \n",
      "\n",
      "   Region_Asia  Region_Europe  Region_North America  Region_South America  \n",
      "0            0              0                     0                     1  \n",
      "1            1              0                     0                     0  \n",
      "2            0              0                     0                     1  \n",
      "3            0              0                     0                     1  \n",
      "4            1              0                     0                     0  \n"
     ]
    },
    {
     "name": "stderr",
     "output_type": "stream",
     "text": [
      "/var/folders/14/wryybrhn7vs_rn8bd161jqjh0000gn/T/ipykernel_43598/3097210303.py:5: FutureWarning: Downcasting behavior in `replace` is deprecated and will be removed in a future version. To retain the old behavior, explicitly call `result.infer_objects(copy=False)`. To opt-in to the future behavior, set `pd.set_option('future.no_silent_downcasting', True)`\n",
      "  customer_profile_encoded = customer_profile_encoded.replace({True: 1, False: 0})\n"
     ]
    }
   ],
   "source": [
    "# Perform one-hot encoding on the 'Region' column\n",
    "customer_profile_encoded = pd.get_dummies(customer_profile, columns=['Region'], drop_first=False)\n",
    "\n",
    "# Convert the boolean values to 1 and 0 (if needed)\n",
    "customer_profile_encoded = customer_profile_encoded.replace({True: 1, False: 0})\n",
    "\n",
    "# Print the updated dataset with one-hot encoding\n",
    "print(customer_profile_encoded.head())\n"
   ]
  },
  {
   "cell_type": "code",
   "execution_count": 165,
   "metadata": {},
   "outputs": [
    {
     "name": "stdout",
     "output_type": "stream",
     "text": [
      "  CustomerID     TransactionDate   Recency  TransactionFrequency  TotalSpend  \\\n",
      "0      C0001 2024-11-02 17:04:16 -0.261491             -0.011458   -0.061701   \n",
      "1      C0002 2024-12-03 01:41:41 -0.699724             -0.467494   -0.877744   \n",
      "2      C0003 2024-08-24 18:54:04  0.728068             -0.467494   -0.405857   \n",
      "3      C0004 2024-12-23 14:13:52 -0.982455              1.356650    1.032547   \n",
      "4      C0005 2024-11-04 00:30:22 -0.275627             -0.923530   -0.783929   \n",
      "\n",
      "   Region_Asia  Region_Europe  Region_North America  Region_South America  \n",
      "0    -0.532795      -0.579284             -0.548319              1.540416  \n",
      "1     1.876893      -0.579284             -0.548319             -0.649175  \n",
      "2    -0.532795      -0.579284             -0.548319              1.540416  \n",
      "3    -0.532795      -0.579284             -0.548319              1.540416  \n",
      "4     1.876893      -0.579284             -0.548319             -0.649175  \n"
     ]
    }
   ],
   "source": [
    "from sklearn.preprocessing import StandardScaler\n",
    "\n",
    "# Select numerical columns for scaling\n",
    "numerical_columns = ['Recency', 'TransactionFrequency', 'TotalSpend', \n",
    "                     'Region_Europe', 'Region_North America', \n",
    "                     'Region_South America', 'Region_Asia']\n",
    "\n",
    "# Initialize the StandardScaler\n",
    "scaler = StandardScaler()\n",
    "\n",
    "# Fit and transform the selected numerical columns\n",
    "customer_profile_encoded[numerical_columns] = scaler.fit_transform(customer_profile_encoded[numerical_columns])\n",
    "\n",
    "# Print the updated dataset with scaled features\n",
    "print(customer_profile_encoded.head())\n"
   ]
  },
  {
   "cell_type": "code",
   "execution_count": 166,
   "metadata": {},
   "outputs": [],
   "source": [
    "# Drop non-numeric columns\n",
    "data_for_clustering = customer_profile_encoded.drop(columns=['CustomerID', 'TransactionDate'])"
   ]
  },
  {
   "cell_type": "code",
   "execution_count": 167,
   "metadata": {},
   "outputs": [
    {
     "name": "stdout",
     "output_type": "stream",
     "text": [
      "Explained variance: [0.30030569 0.19532872 0.18962066]\n"
     ]
    }
   ],
   "source": [
    "from sklearn.decomposition import PCA\n",
    "\n",
    "# Apply PCA\n",
    "pca = PCA(n_components=3)  # Start with 2 components for visualization\n",
    "pca_result = pca.fit_transform(data_for_clustering)\n",
    "\n",
    "# Check explained variance\n",
    "print(\"Explained variance:\", pca.explained_variance_ratio_)"
   ]
  },
  {
   "cell_type": "code",
   "execution_count": 168,
   "metadata": {},
   "outputs": [
    {
     "data": {
      "image/png": "[encoded data removed]",
      "text/plain": [
       "<Figure size 640x480 with 1 Axes>"
      ]
     },
     "metadata": {},
     "output_type": "display_data"
    }
   ],
   "source": [
    "from sklearn.cluster import KMeans\n",
    "import matplotlib.pyplot as plt\n",
    "\n",
    "# Calculate Within-Cluster Sum of Squares (WCSS)\n",
    "wcss = []\n",
    "for k in range(1, 11):\n",
    "    kmeans = KMeans(n_clusters=k, random_state=42)\n",
    "    kmeans.fit(data_for_clustering)  # Use scaled data\n",
    "    wcss.append(kmeans.inertia_)\n",
    "\n",
    "# Plot the Elbow Curve\n",
    "plt.plot(range(1, 11), wcss, marker='o')\n",
    "plt.xlabel(\"Number of Clusters (K)\")\n",
    "plt.ylabel(\"WCSS\")\n",
    "plt.title(\"Elbow Method\")\n",
    "plt.show()"
   ]
  },
  {
   "cell_type": "code",
   "execution_count": 169,
   "metadata": {},
   "outputs": [],
   "source": [
    "# Example: Assume K=4 is optimal\n",
    "kmeans = KMeans(n_clusters=4, random_state=42)\n",
    "clusters = kmeans.fit_predict(data_for_clustering)\n",
    "\n",
    "# Add clusters back to the DataFrame\n",
    "customer_profile_encoded['Cluster'] = clusters"
   ]
  },
  {
   "cell_type": "code",
   "execution_count": 170,
   "metadata": {},
   "outputs": [
    {
     "data": {
      "image/png": "[encoded data removed]",
      "text/plain": [
       "<Figure size 1000x600 with 2 Axes>"
      ]
     },
     "metadata": {},
     "output_type": "display_data"
    }
   ],
   "source": [
    "# Add PCA components to the DataFrame\n",
    "customer_profile_encoded['PCA1'] = pca_result[:, 0]\n",
    "customer_profile_encoded['PCA2'] = pca_result[:, 1]\n",
    "\n",
    "# Plot\n",
    "plt.figure(figsize=(10, 6))\n",
    "plt.scatter(customer_profile_encoded['PCA1'], customer_profile_encoded['PCA2'], \n",
    "            c=customer_profile_encoded['Cluster'], cmap='viridis', alpha=0.6)\n",
    "plt.xlabel('PCA Component 1')\n",
    "plt.ylabel('PCA Component 2')\n",
    "plt.title('Customer Clusters (K=4)')\n",
    "plt.colorbar(label='Cluster')\n",
    "plt.show()"
   ]
  },
  {
   "cell_type": "code",
   "execution_count": 174,
   "metadata": {},
   "outputs": [
    {
     "name": "stdout",
     "output_type": "stream",
     "text": [
      "          Recency  TransactionFrequency  TotalSpend  Region_Asia  \\\n",
      "Cluster                                                            \n",
      "0        0.020958             -0.157390   -0.077799    -0.532795   \n",
      "1       -0.152711              0.058107    0.137044    -0.532795   \n",
      "2        0.152464              0.127335   -0.085420    -0.532795   \n",
      "3        0.021562             -0.032187   -0.006053     1.876893   \n",
      "\n",
      "         Region_Europe  Region_North America  Region_South America      PCA1  \\\n",
      "Cluster                                                                        \n",
      "0             1.726268             -0.548319             -0.649175 -0.445584   \n",
      "1            -0.579284             -0.548319              1.540416  0.553790   \n",
      "2            -0.579284              1.823756             -0.649175 -0.124846   \n",
      "3            -0.579284             -0.548319             -0.649175 -0.105716   \n",
      "\n",
      "             PCA2  \n",
      "Cluster            \n",
      "0       -0.272344  \n",
      "1        1.669184  \n",
      "2       -1.257558  \n",
      "3       -0.614022  \n"
     ]
    }
   ],
   "source": [
    "# Drop non-numeric columns (e.g., CustomerID, TransactionDate)\n",
    "numeric_data = customer_profile_encoded.drop(columns=['CustomerID', 'TransactionDate'])\n",
    "\n",
    "# Group by 'Cluster' and calculate the mean of numeric columns\n",
    "cluster_summary = numeric_data.groupby('Cluster').mean()\n",
    "\n",
    "# Print the cluster summary\n",
    "print(cluster_summary)"
   ]
  },
  {
   "cell_type": "code",
   "execution_count": 177,
   "metadata": {},
   "outputs": [
    {
     "name": "stdout",
     "output_type": "stream",
     "text": [
      "          Recency  TransactionFrequency  TotalSpend  Region_Asia  \\\n",
      "Cluster                                                            \n",
      "0        0.020958             -0.157390   -0.077799    -0.532795   \n",
      "1       -0.152711              0.058107    0.137044    -0.532795   \n",
      "2        0.152464              0.127335   -0.085420    -0.532795   \n",
      "3        0.021562             -0.032187   -0.006053     1.876893   \n",
      "\n",
      "         Region_Europe  Region_North America  Region_South America      PCA1  \\\n",
      "Cluster                                                                        \n",
      "0             1.726268             -0.548319             -0.649175 -0.445584   \n",
      "1            -0.579284             -0.548319              1.540416  0.553790   \n",
      "2            -0.579284              1.823756             -0.649175 -0.124846   \n",
      "3            -0.579284             -0.548319             -0.649175 -0.105716   \n",
      "\n",
      "             PCA2  \n",
      "Cluster            \n",
      "0       -0.272344  \n",
      "1        1.669184  \n",
      "2       -1.257558  \n",
      "3       -0.614022  \n"
     ]
    }
   ],
   "source": [
    "# Drop non-numeric columns before grouping\n",
    "numeric_columns = customer_profile_encoded.select_dtypes(include=['number']).columns\n",
    "cluster_summary = customer_profile_encoded[numeric_columns].groupby('Cluster').mean()\n",
    "\n",
    "print(cluster_summary)"
   ]
  },
  {
   "cell_type": "code",
   "execution_count": 178,
   "metadata": {},
   "outputs": [],
   "source": [
    "customer_profile_encoded = customer_profile_encoded.drop(columns=['CustomerID', 'TransactionDate'])"
   ]
  },
  {
   "cell_type": "code",
   "execution_count": 180,
   "metadata": {},
   "outputs": [
    {
     "data": {
      "image/png": "[encoded data removed]",
      "text/plain": [
       "<Figure size 640x480 with 1 Axes>"
      ]
     },
     "metadata": {},
     "output_type": "display_data"
    }
   ],
   "source": [
    "from sklearn.manifold import TSNE\n",
    "\n",
    "tsne = TSNE(n_components=2, random_state=42)\n",
    "tsne_result = tsne.fit_transform(data_for_clustering)\n",
    "plt.scatter(tsne_result[:, 0], tsne_result[:, 1], c=clusters, cmap='viridis')\n",
    "plt.show()"
   ]
  },
  {
   "cell_type": "code",
   "execution_count": 182,
   "metadata": {},
   "outputs": [
    {
     "name": "stdout",
     "output_type": "stream",
     "text": [
      "Davies-Bouldin Index: 0.95\n"
     ]
    }
   ],
   "source": [
    "from sklearn.metrics import davies_bouldin_score\n",
    "\n",
    "# Calculate DB Index\n",
    "db_index = davies_bouldin_score(data_for_clustering, clusters)\n",
    "print(f\"Davies-Bouldin Index: {db_index:.2f}\")"
   ]
  }
 ],
 "metadata": {
  "kernelspec": {
   "display_name": "api_venv",
   "language": "python",
   "name": "python3"
  },
  "language_info": {
   "codemirror_mode": {
    "name": "ipython",
    "version": 3
   },
   "file_extension": ".py",
   "mimetype": "text/x-python",
   "name": "python",
   "nbconvert_exporter": "python",
   "pygments_lexer": "ipython3",
   "version": "3.11.4"
  }
 },
 "nbformat": 4,
 "nbformat_minor": 2
}
