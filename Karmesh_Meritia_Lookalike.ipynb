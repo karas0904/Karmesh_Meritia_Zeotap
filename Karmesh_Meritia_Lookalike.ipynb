{
 "cells": [
  {
   "cell_type": "code",
   "execution_count": 10,
   "metadata": {},
   "outputs": [],
   "source": [
    "from sklearn.metrics.pairwise import cosine_similarity\n",
    "from sklearn.preprocessing import StandardScaler\n",
    "import pandas as pd"
   ]
  },
  {
   "cell_type": "markdown",
   "metadata": {},
   "source": [
    "#importing the three datasets and merging and store in data"
   ]
  },
  {
   "cell_type": "code",
   "execution_count": 3,
   "metadata": {},
   "outputs": [],
   "source": [
    "transactions = pd.read_csv('Transactions.csv')\n",
    "customers = pd.read_csv(\"Customers.csv\")\n",
    "products = pd.read_csv(\"Products.csv\")\n",
    "\n",
    "\n",
    "data = transactions.merge(customers, on=\"CustomerID\", how=\"left\").merge(products, on=\"ProductID\", how=\"left\")\n"
   ]
  },
  {
   "cell_type": "markdown",
   "metadata": {},
   "source": [
    "# Feature-Engineering<br>\n",
    "#here we are finding total 4 things<br>\n",
    "#1. total value-this tells the total spending of each customer<br>\n",
    "#2. quantity-this tells total quantity taken by each customer<br>\n",
    "#3. region- takes most common region <br>\n",
    "#4. Category- takes the most purchased category<br>"
   ]
  },
  {
   "cell_type": "code",
   "execution_count": 4,
   "metadata": {},
   "outputs": [],
   "source": [
    "customer_features = data.groupby('CustomerID').agg({\n",
    "    'TotalValue': 'sum',\n",
    "    'Quantity': 'sum',\n",
    "    'Region': lambda x: x.mode()[0],\n",
    "    'Category': lambda x: x.mode()[0]\n",
    "}).reset_index()\n",
    "\n"
   ]
  },
  {
   "cell_type": "markdown",
   "metadata": {},
   "source": [
    "# Encoding the categorigal values in the dataframe"
   ]
  },
  {
   "cell_type": "code",
   "execution_count": 5,
   "metadata": {},
   "outputs": [],
   "source": [
    "customer_features = pd.get_dummies(customer_features, columns=['Region', 'Category'], drop_first=True)"
   ]
  },
  {
   "cell_type": "markdown",
   "metadata": {},
   "source": [
    "# Using standard scaler to normalise "
   ]
  },
  {
   "cell_type": "code",
   "execution_count": 6,
   "metadata": {},
   "outputs": [],
   "source": [
    "scaler = StandardScaler()\n",
    "numerical_cols = ['TotalValue', 'Quantity']\n",
    "customer_features[numerical_cols] = scaler.fit_transform(customer_features[numerical_cols])"
   ]
  },
  {
   "cell_type": "markdown",
   "metadata": {},
   "source": [
    "# This is the main part here, we have calculated the cosine similarity between the customers"
   ]
  },
  {
   "cell_type": "code",
   "execution_count": 7,
   "metadata": {},
   "outputs": [],
   "source": [
    "customer_ids = customer_features['CustomerID']\n",
    "features_matrix = customer_features.drop('CustomerID', axis=1).values\n",
    "similarity_matrix = cosine_similarity(features_matrix)"
   ]
  },
  {
   "cell_type": "markdown",
   "metadata": {},
   "source": [
    "# After calculating the cosine similarity, we are taking the top three similar customers to C0001 TO C0020 "
   ]
  },
  {
   "cell_type": "code",
   "execution_count": 9,
   "metadata": {},
   "outputs": [
    {
     "name": "stdout",
     "output_type": "stream",
     "text": [
      "Lookalike Model completed for the first 20 customers! Results saved in Lookalike_first_20.csv\n"
     ]
    }
   ],
   "source": [
    "lookalikes = {}\n",
    "for i, customer_id in enumerate(customer_ids[:20]):  \n",
    "    similarity_scores = list(enumerate(similarity_matrix[i]))\n",
    "    similarity_scores = sorted(similarity_scores, key=lambda x: x[1], reverse=True)\n",
    "    top_3 = [(customer_ids[j], score) for j, score in similarity_scores[1:4]]\n",
    "    lookalikes[customer_id] = top_3\n",
    "\n",
    "lookalike_df = pd.DataFrame({\n",
    "    \"CustomerID\": customer_ids[:20],  \n",
    "    \"Lookalikes\": [lookalikes[cid] for cid in customer_ids[:20]]\n",
    "})\n",
    "lookalike_df.to_csv(\"Lookalike.csv\", index=False)\n",
    "print(\"Lookalike Model completed for the first 20 customers! Results saved in Lookalike_first_20.csv\")\n"
   ]
  },
  {
   "cell_type": "markdown",
   "metadata": {},
   "source": [
    "<-------------------------------------------------------END--------------------------------------------------->"
   ]
  }
 ],
 "metadata": {
  "kernelspec": {
   "display_name": "api_venv",
   "language": "python",
   "name": "python3"
  },
  "language_info": {
   "codemirror_mode": {
    "name": "ipython",
    "version": 3
   },
   "file_extension": ".py",
   "mimetype": "text/x-python",
   "name": "python",
   "nbconvert_exporter": "python",
   "pygments_lexer": "ipython3",
   "version": "3.11.4"
  }
 },
 "nbformat": 4,
 "nbformat_minor": 2
}
