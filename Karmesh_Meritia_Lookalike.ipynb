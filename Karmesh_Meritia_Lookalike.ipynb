{
 "cells": [
  {
   "cell_type": "code",
   "execution_count": 2,
   "metadata": {},
   "outputs": [
    {
     "name": "stdout",
     "output_type": "stream",
     "text": [
      "Lookalike Model completed! Results saved in Lookalike.csv\n"
     ]
    }
   ],
   "source": [
    "from sklearn.metrics.pairwise import cosine_similarity\n",
    "from sklearn.preprocessing import StandardScaler\n",
    "import pandas as pd\n",
    "\n",
    "transactions = pd.read_csv('Transactions.csv')\n",
    "customers = pd.read_csv(\"Customers.csv\")\n",
    "products = pd.read_csv(\"Products.csv\")\n",
    "# Merge datasets for Lookalike Model\n",
    "data = transactions.merge(customers, on=\"CustomerID\", how=\"left\").merge(products, on=\"ProductID\", how=\"left\")\n",
    "\n",
    "# Feature engineering for similarity calculation\n",
    "customer_features = data.groupby('CustomerID').agg({\n",
    "    'TotalValue': 'sum',\n",
    "    'Quantity': 'sum',\n",
    "    'Region': lambda x: x.mode()[0],\n",
    "    'Category': lambda x: x.mode()[0]\n",
    "}).reset_index()\n",
    "\n",
    "# Encode categorical columns\n",
    "customer_features = pd.get_dummies(customer_features, columns=['Region', 'Category'], drop_first=True)\n",
    "\n",
    "# Normalize numerical columns\n",
    "scaler = StandardScaler()\n",
    "numerical_cols = ['TotalValue', 'Quantity']\n",
    "customer_features[numerical_cols] = scaler.fit_transform(customer_features[numerical_cols])\n",
    "\n",
    "# Calculate cosine similarity\n",
    "customer_ids = customer_features['CustomerID']\n",
    "features_matrix = customer_features.drop('CustomerID', axis=1).values\n",
    "similarity_matrix = cosine_similarity(features_matrix)\n",
    "\n",
    "# Find top 3 similar customers for each customer\n",
    "lookalikes = {}\n",
    "for i, customer_id in enumerate(customer_ids):\n",
    "    similarity_scores = list(enumerate(similarity_matrix[i]))\n",
    "    similarity_scores = sorted(similarity_scores, key=lambda x: x[1], reverse=True)\n",
    "    top_3 = [(customer_ids[j], score) for j, score in similarity_scores[1:4]]\n",
    "    lookalikes[customer_id] = top_3\n",
    "\n",
    "# Save the Lookalike data\n",
    "lookalike_df = pd.DataFrame({\n",
    "    \"CustomerID\": customer_ids,\n",
    "    \"Lookalikes\": [lookalikes[cid] for cid in customer_ids]\n",
    "})\n",
    "lookalike_df.to_csv(\"Lookalike.csv\", index=False)\n",
    "print(\"Lookalike Model completed! Results saved in Lookalike.csv\")\n"
   ]
  },
  {
   "cell_type": "code",
   "execution_count": 3,
   "metadata": {},
   "outputs": [],
   "source": [
    "transactions = pd.read_csv('Transactions.csv')\n",
    "customers = pd.read_csv(\"Customers.csv\")\n",
    "products = pd.read_csv(\"Products.csv\")\n",
    "# Merge datasets for Lookalike Model\n",
    "data = transactions.merge(customers, on=\"CustomerID\", how=\"left\").merge(products, on=\"ProductID\", how=\"left\")\n"
   ]
  },
  {
   "cell_type": "code",
   "execution_count": 4,
   "metadata": {},
   "outputs": [],
   "source": [
    "# Feature engineering for similarity calculation\n",
    "customer_features = data.groupby('CustomerID').agg({\n",
    "    'TotalValue': 'sum',\n",
    "    'Quantity': 'sum',\n",
    "    'Region': lambda x: x.mode()[0],\n",
    "    'Category': lambda x: x.mode()[0]\n",
    "}).reset_index()\n",
    "\n"
   ]
  },
  {
   "cell_type": "code",
   "execution_count": 5,
   "metadata": {},
   "outputs": [],
   "source": [
    "# Encode categorical columns\n",
    "customer_features = pd.get_dummies(customer_features, columns=['Region', 'Category'], drop_first=True)"
   ]
  },
  {
   "cell_type": "code",
   "execution_count": 6,
   "metadata": {},
   "outputs": [],
   "source": [
    "# Normalize numerical columns\n",
    "scaler = StandardScaler()\n",
    "numerical_cols = ['TotalValue', 'Quantity']\n",
    "customer_features[numerical_cols] = scaler.fit_transform(customer_features[numerical_cols])"
   ]
  },
  {
   "cell_type": "code",
   "execution_count": 7,
   "metadata": {},
   "outputs": [],
   "source": [
    "# Calculate cosine similarity\n",
    "customer_ids = customer_features['CustomerID']\n",
    "features_matrix = customer_features.drop('CustomerID', axis=1).values\n",
    "similarity_matrix = cosine_similarity(features_matrix)"
   ]
  },
  {
   "cell_type": "code",
   "execution_count": 9,
   "metadata": {},
   "outputs": [
    {
     "name": "stdout",
     "output_type": "stream",
     "text": [
      "Lookalike Model completed for the first 20 customers! Results saved in Lookalike_first_20.csv\n"
     ]
    }
   ],
   "source": [
    "# Find top 3 similar customers for the first 20 customers\n",
    "lookalikes = {}\n",
    "for i, customer_id in enumerate(customer_ids[:20]):  # Slice to only the first 20 customers\n",
    "    similarity_scores = list(enumerate(similarity_matrix[i]))\n",
    "    similarity_scores = sorted(similarity_scores, key=lambda x: x[1], reverse=True)\n",
    "    top_3 = [(customer_ids[j], score) for j, score in similarity_scores[1:4]]\n",
    "    lookalikes[customer_id] = top_3\n",
    "\n",
    "# Save the Lookalike data for the first 20 customers\n",
    "lookalike_df = pd.DataFrame({\n",
    "    \"CustomerID\": customer_ids[:20],  # Only the first 20 customer IDs\n",
    "    \"Lookalikes\": [lookalikes[cid] for cid in customer_ids[:20]]\n",
    "})\n",
    "lookalike_df.to_csv(\"Lookalike.csv\", index=False)\n",
    "print(\"Lookalike Model completed for the first 20 customers! Results saved in Lookalike_first_20.csv\")\n"
   ]
  },
  {
   "cell_type": "code",
   "execution_count": null,
   "metadata": {},
   "outputs": [],
   "source": []
  }
 ],
 "metadata": {
  "kernelspec": {
   "display_name": "api_venv",
   "language": "python",
   "name": "python3"
  },
  "language_info": {
   "codemirror_mode": {
    "name": "ipython",
    "version": 3
   },
   "file_extension": ".py",
   "mimetype": "text/x-python",
   "name": "python",
   "nbconvert_exporter": "python",
   "pygments_lexer": "ipython3",
   "version": "3.11.4"
  }
 },
 "nbformat": 4,
 "nbformat_minor": 2
}
